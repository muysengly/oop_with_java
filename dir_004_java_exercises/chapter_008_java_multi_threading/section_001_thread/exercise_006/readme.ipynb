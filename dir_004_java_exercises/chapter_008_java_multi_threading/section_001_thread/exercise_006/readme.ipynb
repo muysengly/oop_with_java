{
 "cells": [
  {
   "cell_type": "code",
   "execution_count": null,
   "metadata": {
    "vscode": {
     "languageId": "shellscript"
    }
   },
   "outputs": [],
   "source": [
    "java -cp \"C:\\~~~\\jsoup-1.18.3.jar\" Web_Crawler.java\n",
    "\n",
    "# or\n",
    "\n",
    "java -classpath \"C:\\~~~\\jsoup-1.18.3.jar\" Web_Crawler.java"
   ]
  }
 ],
 "metadata": {
  "language_info": {
   "name": "python"
  }
 },
 "nbformat": 4,
 "nbformat_minor": 2
}
