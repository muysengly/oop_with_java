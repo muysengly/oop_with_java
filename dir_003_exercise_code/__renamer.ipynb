{
 "cells": [
  {
   "cell_type": "code",
   "execution_count": 1,
   "metadata": {},
   "outputs": [],
   "source": [
    "import os\n",
    "import re\n",
    "import numpy as np"
   ]
  },
  {
   "cell_type": "code",
   "execution_count": 2,
   "metadata": {},
   "outputs": [
    {
     "data": {
      "text/plain": [
       "['.vscode',\n",
       " 'exercise_001',\n",
       " 'exercise_002',\n",
       " 'exercise_003',\n",
       " 'exercise_004',\n",
       " 'exercise_005',\n",
       " 'exercise_006',\n",
       " 'exercise_007',\n",
       " 'exercise_008',\n",
       " 'exercise_009',\n",
       " 'exercise_010',\n",
       " 'exercise_011',\n",
       " 'exercise_012',\n",
       " 'exercise_013',\n",
       " 'exercise_014',\n",
       " 'exercise_015',\n",
       " 'exercise_016',\n",
       " 'exercise_017',\n",
       " 'exercise_018',\n",
       " 'exercise_019',\n",
       " 'exercise_020',\n",
       " 'exercise_021',\n",
       " 'exercise_022',\n",
       " 'exercise_023',\n",
       " 'exercise_024',\n",
       " 'exercise_025',\n",
       " 'exercise_027',\n",
       " 'exercise_028',\n",
       " 'exercise_031',\n",
       " 'javafx_sdk']"
      ]
     },
     "execution_count": 2,
     "metadata": {},
     "output_type": "execute_result"
    }
   ],
   "source": [
    "def list_folders(directory):\n",
    "    return [f for f in os.listdir(directory) if os.path.isdir(os.path.join(directory, f))]\n",
    "\n",
    "\n",
    "def list_files(directory, extension):\n",
    "    return [f for f in os.listdir(directory) if os.path.isfile(os.path.join(directory, f)) and f.endswith(extension)]\n",
    "\n",
    "\n",
    "names = list_folders(\".\")\n",
    "names\n",
    "\n",
    "# names = list_files(\".\", \".ppt\")\n",
    "# names"
   ]
  },
  {
   "cell_type": "code",
   "execution_count": 7,
   "metadata": {},
   "outputs": [
    {
     "data": {
      "text/plain": [
       "['chapter_001',\n",
       " 'chapter_002',\n",
       " 'chapter_003',\n",
       " 'chapter_004',\n",
       " 'chapter_005',\n",
       " 'chapter_006',\n",
       " 'chapter_007',\n",
       " 'chapter_008',\n",
       " 'chapter_009',\n",
       " 'chapter_010',\n",
       " 'chapter_011',\n",
       " 'chapter_012',\n",
       " 'chapter_013',\n",
       " 'chapter_014',\n",
       " 'chapter_015',\n",
       " 'chapter_016',\n",
       " 'chapter_017',\n",
       " 'chapter_018',\n",
       " 'chapter_019',\n",
       " 'chapter_020',\n",
       " 'chapter_021',\n",
       " 'chapter_022',\n",
       " 'chapter_023',\n",
       " 'chapter_024',\n",
       " 'chapter_025',\n",
       " 'chapter_027',\n",
       " 'chapter_028']"
      ]
     },
     "execution_count": 7,
     "metadata": {},
     "output_type": "execute_result"
    }
   ],
   "source": [
    "new_names = names.copy()\n",
    "\n",
    "for i in range(len(names)):\n",
    "    new_names[i] = names[i].lower()\n",
    "\n",
    "# new_names = [name + \".listing\" for name in new_names]\n",
    "new_names = [name.replace(\".\", \"_\") for name in new_names]\n",
    "# new_names = [name.replace(\"_\", \"\") for name in new_names]\n",
    "new_names = [ \"chapter_\" + name[9:]   for name in new_names]\n",
    "\n",
    "\n",
    "new_names[1:-2]"
   ]
  },
  {
   "cell_type": "code",
   "execution_count": null,
   "metadata": {},
   "outputs": [],
   "source": [
    "for i in range(len(names)):\n",
    "    os.rename(names[i], new_names[i])"
   ]
  }
 ],
 "metadata": {
  "kernelspec": {
   "display_name": "py312",
   "language": "python",
   "name": "python3"
  },
  "language_info": {
   "codemirror_mode": {
    "name": "ipython",
    "version": 3
   },
   "file_extension": ".py",
   "mimetype": "text/x-python",
   "name": "python",
   "nbconvert_exporter": "python",
   "pygments_lexer": "ipython3",
   "version": "3.12.8"
  }
 },
 "nbformat": 4,
 "nbformat_minor": 2
}
