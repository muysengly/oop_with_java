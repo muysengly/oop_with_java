{
 "cells": [
  {
   "cell_type": "code",
   "execution_count": 1,
   "metadata": {},
   "outputs": [],
   "source": [
    "import os"
   ]
  },
  {
   "cell_type": "code",
   "execution_count": 2,
   "metadata": {},
   "outputs": [
    {
     "data": {
      "text/plain": [
       "['demo_001',\n",
       " 'demo_002',\n",
       " 'demo_003',\n",
       " 'demo_004',\n",
       " 'demo_005',\n",
       " 'demo_006',\n",
       " 'demo_007',\n",
       " 'demo_008',\n",
       " 'demo_009',\n",
       " 'demo_010',\n",
       " 'demo_011',\n",
       " 'demo_012',\n",
       " 'demo_013',\n",
       " 'demo_014',\n",
       " 'demo_015',\n",
       " 'demo_016',\n",
       " 'demo_017',\n",
       " 'demo_018',\n",
       " 'demo_019',\n",
       " 'demo_020',\n",
       " 'demo_021',\n",
       " 'demo_022',\n",
       " 'demo_023',\n",
       " 'demo_024',\n",
       " 'demo_025',\n",
       " 'demo_026',\n",
       " 'demo_027',\n",
       " 'demo_028',\n",
       " 'demo_029',\n",
       " 'demo_030',\n",
       " 'demo_031',\n",
       " 'demo_032',\n",
       " 'demo_033',\n",
       " 'demo_034',\n",
       " 'demo_035',\n",
       " 'demo_036',\n",
       " 'demo_037',\n",
       " 'demo_038',\n",
       " 'demo_039',\n",
       " 'demo_040',\n",
       " 'demo_041',\n",
       " 'demo_042',\n",
       " 'demo_043',\n",
       " 'demo_044',\n",
       " 'demo_045',\n",
       " 'demo_046',\n",
       " 'demo_047',\n",
       " 'demo_048',\n",
       " 'demo_049',\n",
       " 'demo_050',\n",
       " 'demo_051',\n",
       " 'demo_052',\n",
       " 'demo_053',\n",
       " 'demo_054',\n",
       " 'demo_055',\n",
       " 'demo_056',\n",
       " 'demo_057',\n",
       " 'demo_058',\n",
       " 'demo_059',\n",
       " 'demo_060',\n",
       " 'demo_061',\n",
       " 'demo_062',\n",
       " 'demo_063',\n",
       " 'demo_064',\n",
       " 'demo_065',\n",
       " 'demo_066',\n",
       " 'demo_067',\n",
       " 'demo_068',\n",
       " 'demo_069',\n",
       " 'demo_070',\n",
       " 'demo_071',\n",
       " 'demo_072',\n",
       " 'demo_073',\n",
       " 'demo_074',\n",
       " 'demo_075',\n",
       " 'demo_076',\n",
       " 'demo_077',\n",
       " 'demo_078',\n",
       " 'demo_079',\n",
       " 'demo_080',\n",
       " 'demo_081',\n",
       " 'demo_082',\n",
       " 'demo_083',\n",
       " 'demo_084',\n",
       " 'demo_085',\n",
       " 'demo_086',\n",
       " 'demo_087',\n",
       " 'demo_088',\n",
       " 'demo_089',\n",
       " 'demo_090',\n",
       " 'demo_091',\n",
       " 'demo_092',\n",
       " 'demo_093',\n",
       " 'demo_094',\n",
       " 'demo_095',\n",
       " 'demo_096',\n",
       " 'demo_097',\n",
       " 'demo_098',\n",
       " 'demo_099']"
      ]
     },
     "execution_count": 2,
     "metadata": {},
     "output_type": "execute_result"
    }
   ],
   "source": [
    "NUM_DIR = 99\n",
    "names = []\n",
    "for i in range(NUM_DIR):\n",
    "    names.append(\"demo_\" + f\"{i+1:03d}\")\n",
    "names"
   ]
  },
  {
   "cell_type": "code",
   "execution_count": 3,
   "metadata": {},
   "outputs": [],
   "source": [
    "for name in names:\n",
    "    os.mkdir(name)"
   ]
  }
 ],
 "metadata": {
  "kernelspec": {
   "display_name": "py312",
   "language": "python",
   "name": "python3"
  },
  "language_info": {
   "codemirror_mode": {
    "name": "ipython",
    "version": 3
   },
   "file_extension": ".py",
   "mimetype": "text/x-python",
   "name": "python",
   "nbconvert_exporter": "python",
   "pygments_lexer": "ipython3",
   "version": "3.12.8"
  }
 },
 "nbformat": 4,
 "nbformat_minor": 2
}
