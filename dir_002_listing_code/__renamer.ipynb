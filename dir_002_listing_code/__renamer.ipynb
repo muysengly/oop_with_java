{
 "cells": [
  {
   "cell_type": "code",
   "execution_count": 22,
   "metadata": {},
   "outputs": [],
   "source": [
    "import os\n",
    "import re\n",
    "import numpy as np"
   ]
  },
  {
   "cell_type": "code",
   "execution_count": 23,
   "metadata": {},
   "outputs": [
    {
     "data": {
      "text/plain": [
       "['aa',\n",
       " 'chapter_01',\n",
       " 'chapter_02',\n",
       " 'chapter_03',\n",
       " 'chapter_04',\n",
       " 'chapter_05',\n",
       " 'chapter_06',\n",
       " 'chapter_07',\n",
       " 'chapter_08',\n",
       " 'chapter_09']"
      ]
     },
     "execution_count": 23,
     "metadata": {},
     "output_type": "execute_result"
    }
   ],
   "source": [
    "def list_folders(directory):\n",
    "    return [f for f in os.listdir(directory) if os.path.isdir(os.path.join(directory, f))]\n",
    "\n",
    "\n",
    "def list_files(directory, extension):\n",
    "    return [f for f in os.listdir(directory) if os.path.isfile(os.path.join(directory, f)) and f.endswith(extension)]\n",
    "\n",
    "\n",
    "names = list_folders(\".\")\n",
    "names\n",
    "\n",
    "# names = list_files(\".\", \".ppt\")\n",
    "# names"
   ]
  },
  {
   "cell_type": "code",
   "execution_count": 27,
   "metadata": {},
   "outputs": [
    {
     "data": {
      "text/plain": [
       "['chapter_0',\n",
       " 'chapter_001',\n",
       " 'chapter_002',\n",
       " 'chapter_003',\n",
       " 'chapter_004',\n",
       " 'chapter_005',\n",
       " 'chapter_006',\n",
       " 'chapter_007',\n",
       " 'chapter_008',\n",
       " 'chapter_009']"
      ]
     },
     "execution_count": 27,
     "metadata": {},
     "output_type": "execute_result"
    }
   ],
   "source": [
    "new_names = names.copy()\n",
    "\n",
    "for i in range(len(names)):\n",
    "    new_names[i] = names[i].lower()\n",
    "\n",
    "# new_names = [name + \".listing\" for name in new_names]\n",
    "# new_names = [name.replace(\"_\", \"\") for name in new_names]\n",
    "# new_names = [name.replace(\"_\", \"\") for name in new_names]\n",
    "new_names = [ \"chapter_0\" + name[8:]   for name in new_names]\n",
    "\n",
    "\n",
    "new_names"
   ]
  },
  {
   "cell_type": "code",
   "execution_count": 28,
   "metadata": {},
   "outputs": [],
   "source": [
    "for i in range(len(names)):\n",
    "    os.rename(names[i], new_names[i])"
   ]
  }
 ],
 "metadata": {
  "kernelspec": {
   "display_name": "py312",
   "language": "python",
   "name": "python3"
  },
  "language_info": {
   "codemirror_mode": {
    "name": "ipython",
    "version": 3
   },
   "file_extension": ".py",
   "mimetype": "text/x-python",
   "name": "python",
   "nbconvert_exporter": "python",
   "pygments_lexer": "ipython3",
   "version": "3.12.8"
  }
 },
 "nbformat": 4,
 "nbformat_minor": 2
}
