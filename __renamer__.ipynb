{
 "cells": [
  {
   "cell_type": "code",
   "execution_count": 1,
   "metadata": {},
   "outputs": [],
   "source": [
    "import os\n",
    "import re\n",
    "import numpy as np"
   ]
  },
  {
   "cell_type": "code",
   "execution_count": 6,
   "metadata": {},
   "outputs": [
    {
     "data": {
      "text/plain": [
       "['chapter_001_pdf',\n",
       " 'chapter_002_pdf',\n",
       " 'chapter_003_pdf',\n",
       " 'chapter_004_pdf',\n",
       " 'chapter_005_pdf',\n",
       " 'chapter_006_pdf',\n",
       " 'chapter_007_pdf',\n",
       " 'chapter_008_pdf',\n",
       " 'chapter_009_pdf',\n",
       " 'chapter_010_pdf',\n",
       " 'chapter_011_pdf',\n",
       " 'chapter_012_pdf',\n",
       " 'chapter_013_pdf',\n",
       " 'chapter_014_pdf',\n",
       " 'chapter_015_pdf',\n",
       " 'chapter_016_pdf',\n",
       " 'chapter_017_pdf',\n",
       " 'chapter_018_pdf',\n",
       " 'chapter_019_pdf',\n",
       " 'chapter_020_pdf',\n",
       " 'chapter_021_pdf',\n",
       " 'chapter_022_pdf',\n",
       " 'chapter_023_pdf',\n",
       " 'chapter_024_pdf',\n",
       " 'chapter_025_pdf',\n",
       " 'chapter_026_pdf',\n",
       " 'chapter_027_pdf',\n",
       " 'chapter_028_pdf',\n",
       " 'chapter_029_pdf',\n",
       " 'chapter_030_pdf',\n",
       " 'content_pdf',\n",
       " 'quick_references_pdf']"
      ]
     },
     "execution_count": 6,
     "metadata": {},
     "output_type": "execute_result"
    }
   ],
   "source": [
    "def list_folders(directory):\n",
    "    return [f for f in os.listdir(directory) if os.path.isdir(os.path.join(directory, f))]\n",
    "\n",
    "\n",
    "def list_files(directory, extension):\n",
    "    return [f for f in os.listdir(directory) if os.path.isfile(os.path.join(directory, f)) and f.endswith(extension)]\n",
    "\n",
    "\n",
    "# names = list_folders(\".\")\n",
    "# names\n",
    "\n",
    "names = list_files(\".\", \"_pdf\")\n",
    "names"
   ]
  },
  {
   "cell_type": "code",
   "execution_count": null,
   "metadata": {},
   "outputs": [
    {
     "data": {
      "text/plain": [
       "['chapter_001.pdf',\n",
       " 'chapter_002.pdf',\n",
       " 'chapter_003.pdf',\n",
       " 'chapter_004.pdf',\n",
       " 'chapter_005.pdf',\n",
       " 'chapter_006.pdf',\n",
       " 'chapter_007.pdf',\n",
       " 'chapter_008.pdf',\n",
       " 'chapter_009.pdf',\n",
       " 'chapter_010.pdf',\n",
       " 'chapter_011.pdf',\n",
       " 'chapter_012.pdf',\n",
       " 'chapter_013.pdf',\n",
       " 'chapter_014.pdf',\n",
       " 'chapter_015.pdf',\n",
       " 'chapter_016.pdf',\n",
       " 'chapter_017.pdf',\n",
       " 'chapter_018.pdf',\n",
       " 'chapter_019.pdf',\n",
       " 'chapter_020.pdf',\n",
       " 'chapter_021.pdf',\n",
       " 'chapter_022.pdf',\n",
       " 'chapter_023.pdf',\n",
       " 'chapter_024.pdf',\n",
       " 'chapter_025.pdf',\n",
       " 'chapter_026.pdf',\n",
       " 'chapter_027.pdf',\n",
       " 'chapter_028.pdf',\n",
       " 'chapter_029.pdf',\n",
       " 'chapter_030.pdf',\n",
       " 'content.pdf',\n",
       " 'quick_references.pdf']"
      ]
     },
     "execution_count": 13,
     "metadata": {},
     "output_type": "execute_result"
    }
   ],
   "source": [
    "new_names = names.copy()\n",
    "\n",
    "for i in range(len(names)):\n",
    "    new_names[i] = names[i].lower()\n",
    "\n",
    "# new_names = [name + \".listing\" for name in new_names]\n",
    "# new_names = [name.replace(\"_\", \"\") for name in new_names]\n",
    "# new_names = [name.replace(\".\", \"_\") for name in new_names]\n",
    "new_names = [name[:-4] + \".pdf\" for name in new_names]\n",
    "\n",
    "\n",
    "new_names"
   ]
  },
  {
   "cell_type": "code",
   "execution_count": 14,
   "metadata": {},
   "outputs": [],
   "source": [
    "for i in range(len(names)):\n",
    "    os.rename(names[i], new_names[i])"
   ]
  }
 ],
 "metadata": {
  "kernelspec": {
   "display_name": "py312",
   "language": "python",
   "name": "python3"
  },
  "language_info": {
   "codemirror_mode": {
    "name": "ipython",
    "version": 3
   },
   "file_extension": ".py",
   "mimetype": "text/x-python",
   "name": "python",
   "nbconvert_exporter": "python",
   "pygments_lexer": "ipython3",
   "version": "3.12.8"
  }
 },
 "nbformat": 4,
 "nbformat_minor": 2
}
